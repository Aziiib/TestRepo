{
 "cells": [
  {
   "cell_type": "markdown",
   "id": "d2d586bc",
   "metadata": {},
   "source": [
    "# Data Science Tools and Ecosystem"
   ]
  },
  {
   "cell_type": "markdown",
   "id": "1ba69424",
   "metadata": {},
   "source": [
    "In this notebook, Data Science Tools and Ecosystem are summarized."
   ]
  },
  {
   "cell_type": "markdown",
   "id": "0ead13f4",
   "metadata": {},
   "source": [
    "**Objectives:**  \n",
    "- List popular languages for Data Science  \n",
    "- List commonly used libraries for Data Science  \n",
    "- Create tables using markdown  \n",
    "- Evaluate arithmetic expressions in Python  \n",
    "- Convert minutes to hours using Python code"
   ]
  },
  {
   "cell_type": "markdown",
   "id": "5963c7c5",
   "metadata": {},
   "source": [
    "Some of the popular languages that Data Scientists use are:  \n",
    "1. Python  \n",
    "2. R  \n",
    "3. SQL"
   ]
  },
  {
   "cell_type": "markdown",
   "id": "392cba4e",
   "metadata": {},
   "source": [
    "Some of the commonly used libraries used by Data Scientists include:  \n",
    "1. Pandas  \n",
    "2. NumPy  \n",
    "3. Scikit-learn"
   ]
  },
  {
   "cell_type": "markdown",
   "id": "1d3a2fb7",
   "metadata": {},
   "source": [
    "| Data Science Tools |  \n",
    "|--------------------|  \n",
    "| Jupyter Notebook   |  \n",
    "| RStudio            |  \n",
    "| VS Code            |"
   ]
  },
  {
   "cell_type": "markdown",
   "id": "03a4add4",
   "metadata": {},
   "source": [
    "### Below are a few examples of evaluating arithmetic expressions in Python"
   ]
  },
  {
   "cell_type": "code",
   "execution_count": null,
   "id": "5babcd2f",
   "metadata": {},
   "outputs": [],
   "source": [
    "# This a simple arithmetic expression to multiply then add integers\n",
    "(3 * 4) + 5"
   ]
  },
  {
   "cell_type": "code",
   "execution_count": null,
   "id": "2b43b9ee",
   "metadata": {},
   "outputs": [],
   "source": [
    "# This will convert 200 minutes to hours by dividing by 60\n",
    "200 / 60"
   ]
  },
  {
   "cell_type": "markdown",
   "id": "965686cc",
   "metadata": {},
   "source": [
    "## Author\n",
    "Azib Pasha"
   ]
  }
 ],
 "metadata": {},
 "nbformat": 4,
 "nbformat_minor": 5
}
